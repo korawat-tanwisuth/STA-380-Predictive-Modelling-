{
 "cells": [
  {
   "cell_type": "code",
   "execution_count": 6,
   "metadata": {},
   "outputs": [
    {
     "name": "stdout",
     "output_type": "stream",
     "text": [
      "Populating the interactive namespace from numpy and matplotlib\n"
     ]
    }
   ],
   "source": [
    "from pandas import Series, DataFrame\n",
    "import pandas as pd\n",
    "%pylab inline"
   ]
  },
  {
   "cell_type": "markdown",
   "metadata": {},
   "source": [
    "---\n",
    "## Instructions\n",
    "\n",
    "* Questions 1-3 (6+12+12=30 points total) are about classification.\n",
    "* Question 4 (6\\*10=60 points total) is a coding question.\n",
    "* Question 5 (10 points) is about randomized experiments.\n",
    "\n",
    "\n",
    "* Fill in the code and markdown cells. Please don't change the order of the questions, or move the question cells.\n",
    "* Feel free to add code and markdown cells if you need them.\n",
    "* If you need the results of a previous question, use it in your code and say so in the description. This helps us in grading, even if your answer for the previous question was not correct.\n",
    "* **KEEP SAVING YOUR WORK**\n",
    "* Submit to Canvas at the end."
   ]
  },
  {
   "cell_type": "markdown",
   "metadata": {},
   "source": [
    "---\n",
    "## Q1 (6 points) Compare classification methods\n",
    "\n",
    "Consider a training dataset with two categorical features, with four categories per feature (called `A`, `B`, `C`, and `D`), and the following 8 training examples.\n",
    "\n",
    "![NB.png](NB.png)\n",
    "\n",
    "\n",
    "Will Naive Bayes work well for classification on such a dataset? Give your answer and a short reason."
   ]
  },
  {
   "cell_type": "markdown",
   "metadata": {},
   "source": [
    "No, since both prior distribution and conditional distribution for two features are equally spread out. For example, let's look at the point(A,A), the score for positive is the same as score for negative, which means we don't need to use naive bayes for prediction, we could rather just guess it with 50% positive and 50% negative."
   ]
  },
  {
   "cell_type": "markdown",
   "metadata": {},
   "source": [
    "---\n",
    "## Q2 (3 parts, 4 points each) Classification continued\n",
    "Consider the following dataset, this time with numerical features.\n",
    "\n",
    "![DT.png](DT.png)\n",
    "\n",
    "### Q2(a) Can decision trees be used to classify the data well? Give your answer and a short reason."
   ]
  },
  {
   "cell_type": "markdown",
   "metadata": {},
   "source": []
  },
  {
   "cell_type": "markdown",
   "metadata": {},
   "source": [
    "### Q2(b)  How well will logistic regression work on this dataset? Give your answer and a short reason."
   ]
  },
  {
   "cell_type": "markdown",
   "metadata": {},
   "source": []
  },
  {
   "cell_type": "markdown",
   "metadata": {},
   "source": [
    "### Q2(c) How well will K-Nearest Neighbors work on this dataset? Give your answer and a short reason."
   ]
  },
  {
   "cell_type": "markdown",
   "metadata": {},
   "source": []
  },
  {
   "cell_type": "markdown",
   "metadata": {},
   "source": [
    "---\n",
    "## Q3 (3 parts, 4 points each) More Classification\n",
    "\n",
    "Consider the following dataset.\n",
    "![lattice.png](lattice.png)\n",
    "\n",
    "### Q3(a) How well will decision trees work on this dataset? Give your answer and a short reason."
   ]
  },
  {
   "cell_type": "markdown",
   "metadata": {},
   "source": []
  },
  {
   "cell_type": "markdown",
   "metadata": {},
   "source": [
    "### Q3(b) How well will logistic regression work on this dataset? Give your answer and a short reason."
   ]
  },
  {
   "cell_type": "markdown",
   "metadata": {},
   "source": []
  },
  {
   "cell_type": "markdown",
   "metadata": {},
   "source": [
    "### Q3(c) How well will K-Nearest Neighbors (with k=6) work on this dataset? Give your answer and a short reason."
   ]
  },
  {
   "cell_type": "markdown",
   "metadata": {},
   "source": []
  },
  {
   "cell_type": "markdown",
   "metadata": {},
   "source": [
    "## Q4 (10 parts, 6 points each) Nutrients in food\n",
    "\n",
    "We will analyze the nutrient value of various foods, using data provided by the USDA. We will use two files:\n",
    "\n",
    "* FoodDescriptions.csv, containing the following information for each type of food:\n",
    "    * a unique ID for each type of food (called FoodId)\n",
    "    * a category number (called FoodGroup) for the general category for this type of food\n",
    "    * a description of the food item (LongDesc)\n",
    "    * three nutrient factors (ProFactor, FatFactor, CHOfactor)\n",
    "* FoodGroups.csv, containing the following information for each category of foods:\n",
    "    * the FoodGroup category number\n",
    "    * the name of the category (FoodGroupDesc)"
   ]
  },
  {
   "cell_type": "markdown",
   "metadata": {},
   "source": [
    "### Q4(a): Create a combined table\n",
    "\n",
    "Create a table, called `combined`, that contains all information about each food, along with the `FoodGroupDesc` field for the category of that food item."
   ]
  },
  {
   "cell_type": "code",
   "execution_count": 7,
   "metadata": {},
   "outputs": [
    {
     "data": {
      "text/html": [
       "<div>\n",
       "<style>\n",
       "    .dataframe thead tr:only-child th {\n",
       "        text-align: right;\n",
       "    }\n",
       "\n",
       "    .dataframe thead th {\n",
       "        text-align: left;\n",
       "    }\n",
       "\n",
       "    .dataframe tbody tr th {\n",
       "        vertical-align: top;\n",
       "    }\n",
       "</style>\n",
       "<table border=\"1\" class=\"dataframe\">\n",
       "  <thead>\n",
       "    <tr style=\"text-align: right;\">\n",
       "      <th></th>\n",
       "      <th>FoodId</th>\n",
       "      <th>FoodGroup</th>\n",
       "      <th>LongDesc</th>\n",
       "      <th>ProFactor</th>\n",
       "      <th>FatFactor</th>\n",
       "      <th>CHOfactor</th>\n",
       "      <th>FoodGroupDesc</th>\n",
       "    </tr>\n",
       "  </thead>\n",
       "  <tbody>\n",
       "    <tr>\n",
       "      <th>0</th>\n",
       "      <td>1001</td>\n",
       "      <td>100</td>\n",
       "      <td>Butter, salted</td>\n",
       "      <td>4.27</td>\n",
       "      <td>8.79</td>\n",
       "      <td>3.87</td>\n",
       "      <td>Dairy and Egg Products</td>\n",
       "    </tr>\n",
       "    <tr>\n",
       "      <th>1</th>\n",
       "      <td>1002</td>\n",
       "      <td>100</td>\n",
       "      <td>Butter, whipped, with salt</td>\n",
       "      <td>NaN</td>\n",
       "      <td>NaN</td>\n",
       "      <td>NaN</td>\n",
       "      <td>Dairy and Egg Products</td>\n",
       "    </tr>\n",
       "    <tr>\n",
       "      <th>2</th>\n",
       "      <td>1003</td>\n",
       "      <td>100</td>\n",
       "      <td>Butter oil, anhydrous</td>\n",
       "      <td>4.27</td>\n",
       "      <td>8.79</td>\n",
       "      <td>3.87</td>\n",
       "      <td>Dairy and Egg Products</td>\n",
       "    </tr>\n",
       "    <tr>\n",
       "      <th>3</th>\n",
       "      <td>1004</td>\n",
       "      <td>100</td>\n",
       "      <td>Cheese, blue</td>\n",
       "      <td>4.27</td>\n",
       "      <td>8.79</td>\n",
       "      <td>3.87</td>\n",
       "      <td>Dairy and Egg Products</td>\n",
       "    </tr>\n",
       "    <tr>\n",
       "      <th>4</th>\n",
       "      <td>1005</td>\n",
       "      <td>100</td>\n",
       "      <td>Cheese, brick</td>\n",
       "      <td>4.27</td>\n",
       "      <td>8.79</td>\n",
       "      <td>3.87</td>\n",
       "      <td>Dairy and Egg Products</td>\n",
       "    </tr>\n",
       "    <tr>\n",
       "      <th>5</th>\n",
       "      <td>1006</td>\n",
       "      <td>100</td>\n",
       "      <td>Cheese, brie</td>\n",
       "      <td>4.27</td>\n",
       "      <td>8.79</td>\n",
       "      <td>3.87</td>\n",
       "      <td>Dairy and Egg Products</td>\n",
       "    </tr>\n",
       "    <tr>\n",
       "      <th>6</th>\n",
       "      <td>1007</td>\n",
       "      <td>100</td>\n",
       "      <td>Cheese, camembert</td>\n",
       "      <td>4.27</td>\n",
       "      <td>8.79</td>\n",
       "      <td>3.87</td>\n",
       "      <td>Dairy and Egg Products</td>\n",
       "    </tr>\n",
       "    <tr>\n",
       "      <th>7</th>\n",
       "      <td>1008</td>\n",
       "      <td>100</td>\n",
       "      <td>Cheese, caraway</td>\n",
       "      <td>4.27</td>\n",
       "      <td>8.79</td>\n",
       "      <td>3.87</td>\n",
       "      <td>Dairy and Egg Products</td>\n",
       "    </tr>\n",
       "    <tr>\n",
       "      <th>8</th>\n",
       "      <td>1009</td>\n",
       "      <td>100</td>\n",
       "      <td>Cheese, cheddar</td>\n",
       "      <td>NaN</td>\n",
       "      <td>NaN</td>\n",
       "      <td>NaN</td>\n",
       "      <td>Dairy and Egg Products</td>\n",
       "    </tr>\n",
       "    <tr>\n",
       "      <th>9</th>\n",
       "      <td>1010</td>\n",
       "      <td>100</td>\n",
       "      <td>Cheese, cheshire</td>\n",
       "      <td>4.27</td>\n",
       "      <td>8.79</td>\n",
       "      <td>3.87</td>\n",
       "      <td>Dairy and Egg Products</td>\n",
       "    </tr>\n",
       "  </tbody>\n",
       "</table>\n",
       "</div>"
      ],
      "text/plain": [
       "   FoodId  FoodGroup                    LongDesc  ProFactor  FatFactor  \\\n",
       "0    1001        100              Butter, salted       4.27       8.79   \n",
       "1    1002        100  Butter, whipped, with salt        NaN        NaN   \n",
       "2    1003        100       Butter oil, anhydrous       4.27       8.79   \n",
       "3    1004        100                Cheese, blue       4.27       8.79   \n",
       "4    1005        100               Cheese, brick       4.27       8.79   \n",
       "5    1006        100                Cheese, brie       4.27       8.79   \n",
       "6    1007        100           Cheese, camembert       4.27       8.79   \n",
       "7    1008        100             Cheese, caraway       4.27       8.79   \n",
       "8    1009        100             Cheese, cheddar        NaN        NaN   \n",
       "9    1010        100            Cheese, cheshire       4.27       8.79   \n",
       "\n",
       "   CHOfactor           FoodGroupDesc  \n",
       "0       3.87  Dairy and Egg Products  \n",
       "1        NaN  Dairy and Egg Products  \n",
       "2       3.87  Dairy and Egg Products  \n",
       "3       3.87  Dairy and Egg Products  \n",
       "4       3.87  Dairy and Egg Products  \n",
       "5       3.87  Dairy and Egg Products  \n",
       "6       3.87  Dairy and Egg Products  \n",
       "7       3.87  Dairy and Egg Products  \n",
       "8        NaN  Dairy and Egg Products  \n",
       "9       3.87  Dairy and Egg Products  "
      ]
     },
     "execution_count": 7,
     "metadata": {},
     "output_type": "execute_result"
    }
   ],
   "source": [
    "description = pd.read_csv('/Users/meganchen/final/FoodDescriptions.csv')\n",
    "group = pd.read_csv('/Users/meganchen/final/FoodGroups.csv')\n",
    "combined = description.merge(group, on = 'FoodGroup')\n",
    "combined.iloc[:10,]"
   ]
  },
  {
   "cell_type": "code",
   "execution_count": null,
   "metadata": {
    "collapsed": true
   },
   "outputs": [],
   "source": []
  },
  {
   "cell_type": "code",
   "execution_count": null,
   "metadata": {
    "collapsed": true
   },
   "outputs": [],
   "source": []
  },
  {
   "cell_type": "markdown",
   "metadata": {},
   "source": [
    "### Q4(b): How many foods are there for each food group?\n",
    "\n",
    "Draw a plot showing the food group description `FoodGroupDesc` on the x-axis and the number of foods on the y-axis. "
   ]
  },
  {
   "cell_type": "code",
   "execution_count": 8,
   "metadata": {},
   "outputs": [
    {
     "data": {
      "text/plain": [
       "<matplotlib.axes._subplots.AxesSubplot at 0x110424510>"
      ]
     },
     "execution_count": 8,
     "metadata": {},
     "output_type": "execute_result"
    },
    {
     "data": {
      "image/png": "[encoded data removed]",
      "text/plain": [
       "<matplotlib.figure.Figure at 0x10f5c6210>"
      ]
     },
     "metadata": {},
     "output_type": "display_data"
    }
   ],
   "source": [
    "vc_food = combined['FoodGroupDesc'].value_counts()\n",
    "vc_food.plot(kind='bar')"
   ]
  },
  {
   "cell_type": "markdown",
   "metadata": {},
   "source": [
    "### Q4(c): Draw the same plot as above, but only for foods containing `Chicken` or `chicken` in the `LongDesc` field."
   ]
  },
  {
   "cell_type": "code",
   "execution_count": 9,
   "metadata": {},
   "outputs": [
    {
     "data": {
      "text/plain": [
       "<matplotlib.axes._subplots.AxesSubplot at 0x11045f410>"
      ]
     },
     "execution_count": 9,
     "metadata": {},
     "output_type": "execute_result"
    },
    {
     "data": {
      "image/png": "[encoded data removed]",
      "text/plain": [
       "<matplotlib.figure.Figure at 0x11046be10>"
      ]
     },
     "metadata": {},
     "output_type": "display_data"
    }
   ],
   "source": [
    "import re\n",
    "def find_chick(description):\n",
    "    s = 'chicken'\n",
    "    result = re.findall(s,description.lower())\n",
    "    return(len(result)>0)\n",
    "mask = combined['LongDesc'].map(find_chick)\n",
    "vc_food_chicken = combined[mask]['FoodGroupDesc'].value_counts()\n",
    "vc_food_chicken.plot(kind='bar')"
   ]
  },
  {
   "cell_type": "markdown",
   "metadata": {},
   "source": [
    "### Q4(d): Most common company names\n",
    "\n",
    "The `LongDesc` field sometimes contains company names as part of the food name: e.g. \"`KEEBLER, Vanilla Wafers`\", or \"`Cereals, QUAKER, Whole Wheat Natural Cereal, dry`\", or \"`PEPPERIDGE FARM, Goldfish, Baked Snack Cracker`\". Let us define a company name to be the _first_ sequence of characters in `LongDesc` that\n",
    "* starts with an upper-case character,\n",
    "* has only upper-case characters or spaces or apostrophes (') in the middle,\n",
    "* and ends with either a space or a comma.\n",
    "\n",
    "So, for example:\n",
    "\n",
    "LongDesc | CompanyName \n",
    "--- | ---\n",
    "KEEBLER, Vanilla Wafers | KEEBLER,\n",
    "KEEBLER, ANIMALS, Frosted Cookies | KEEBLER,\n",
    "Cereals, QUAKER, Whole Wheat Natural Cereal, dry | QUAKER,\n",
    "PEPPERIDGE FARM, Goldfish, Baked Snack Cracker | PEPPERIDGE FARM,\n",
    "CAMPBELL'S, Cheddar Cheese Soup, condensed | CAMPBELL'S,\n",
    "\n",
    "Notice that:\n",
    "* in \"`KEEBLER, ANIMALS, Frosted Cookies`\", both the strings \"`KEEBLER,`\" and \"`ANIMALS,`\" satisfy the conditions above, but only the _first_ string (`KEEBLER,`) became the company name,\n",
    "* \"`CAMPBELL'S` \" (with an ending space) and \"`CAMPBELL'S,`\" (with an ending comma) are considered different companies.\n",
    "\n",
    "Attach a `CompanyName` column to the `combined` dataframe. If the `LongDesc` has no company name in it, return `np.nan`.\n",
    "\n",
    "Then, plot the 10 most frequent company names (`CompanyName` along the x-axis, frequency of the company on the y-axis)."
   ]
  },
  {
   "cell_type": "code",
   "execution_count": 10,
   "metadata": {},
   "outputs": [
    {
     "data": {
      "text/plain": [
       "<matplotlib.axes._subplots.AxesSubplot at 0x1104e7cd0>"
      ]
     },
     "execution_count": 10,
     "metadata": {},
     "output_type": "execute_result"
    },
    {
     "data": {
      "image/png": "[encoded data removed]",
      "text/plain": [
       "<matplotlib.figure.Figure at 0x110528150>"
      ]
     },
     "metadata": {},
     "output_type": "display_data"
    }
   ],
   "source": [
    "import numpy as np\n",
    "def find_company(description):\n",
    "    list = re.findall(\"[A-Z]+[A-Z'\\fs]+[\\s,]\",description)\n",
    "    if len(list)>0:\n",
    "        return list[0]\n",
    "    else:\n",
    "        return np.nan\n",
    "combined['CompanyName'] = combined['LongDesc'].map(find_company)\n",
    "vc_company = combined['CompanyName'].value_counts()\n",
    "vc_company[:10].plot(kind='bar')"
   ]
  },
  {
   "cell_type": "markdown",
   "metadata": {},
   "source": [
    "### Q4(e): First non-company word\n",
    "\n",
    "For each food, find the first word (call it `firstword`) in its `LongDesc` that is not all uppercase; this is typically something other than a company name. Here, the words of `LongDesc` are just strings separated by whitespace. For example:\n",
    "\n",
    "LongDesc | firstword\n",
    "--- | ---\n",
    "Butter, salted | Butter,\n",
    "Cheese, camembert | Cheese,\n",
    "McDONALD'S, Hamburger | McDONALD'S,  `(because of the lowercase c)`\n",
    "KEEBLER, Vanilla Wafers | Vanilla\n",
    "KEEBLER, ANIMALS, Cookies | Cookies\n",
    "\n",
    "Then, for each `FoodGroupDesc`, figure out the most common `firstword` for foods in that group.\n",
    "\n",
    "_Reminder_: For a string s, you can get it capitalized via s.upper(), and get it in lowercase via s.lower()."
   ]
  },
  {
   "cell_type": "code",
   "execution_count": 11,
   "metadata": {},
   "outputs": [
    {
     "data": {
      "text/plain": [
       "<matplotlib.axes._subplots.AxesSubplot at 0x11058fb90>"
      ]
     },
     "execution_count": 11,
     "metadata": {},
     "output_type": "execute_result"
    },
    {
     "data": {
      "image/png": "[encoded data removed]",
      "text/plain": [
       "<matplotlib.figure.Figure at 0x11062e2d0>"
      ]
     },
     "metadata": {},
     "output_type": "display_data"
    }
   ],
   "source": [
    "def find_first(description):\n",
    "    list = description.split(' ')\n",
    "    for item in list:\n",
    "        if item.upper() == item:\n",
    "            continue\n",
    "        else:\n",
    "            return item\n",
    "combined['firstword'] = combined['LongDesc'].map(find_first)\n",
    "vc_first = combined['firstword'].value_counts()\n",
    "vc_first[:10].plot(kind='bar')"
   ]
  },
  {
   "cell_type": "markdown",
   "metadata": {},
   "source": [
    "### Q4(f): Homogeneous food groups\n",
    "\n",
    "Suppose we want to find food groups where all foods in the group have roughly similar values for `ProFactor`, `FatFactor`, and `CHOfactor`. Let us define the `relativeRange` of `ProFactor` among all foods in a food group (say, `Baby Foods`) as\n",
    "\n",
    "    relativeRange(ProFactor) = (max(ProFactor) - min(ProFactor)) / average(ProFactor)\n",
    "\n",
    "where the `max`, `min`, and `average` are taken over all foods under the `Baby Foods` group. The relative range for `FatFactor` and `CHOfactor` can be defined accordingly.\n",
    "\n",
    "Figure out all food groups that:\n",
    "* contain at least 50 foods,\n",
    "* have a ProFactor relativeRange that is less than the median ProFactor relativeRange among all food groups,\n",
    "* and similarly, a FatFactor relativeRange and a CHOfactor relativeRange that are less than their medians among all food groups.\n",
    "\n",
    "Note: We want _all_ the above conditions to hold.\n",
    "\n",
    "Note 2: Please output the `FoodGroupDesc` instead of just the `FoodGroup` category code."
   ]
  },
  {
   "cell_type": "code",
   "execution_count": 12,
   "metadata": {},
   "outputs": [
    {
     "name": "stderr",
     "output_type": "stream",
     "text": [
      "/usr/local/lib/python2.7/site-packages/ipykernel_launcher.py:7: UserWarning: Boolean Series key will be reindexed to match DataFrame index.\n",
      "  import sys\n"
     ]
    },
    {
     "data": {
      "text/html": [
       "<div>\n",
       "<style>\n",
       "    .dataframe thead tr:only-child th {\n",
       "        text-align: right;\n",
       "    }\n",
       "\n",
       "    .dataframe thead th {\n",
       "        text-align: left;\n",
       "    }\n",
       "\n",
       "    .dataframe tbody tr th {\n",
       "        vertical-align: top;\n",
       "    }\n",
       "</style>\n",
       "<table border=\"1\" class=\"dataframe\">\n",
       "  <thead>\n",
       "    <tr style=\"text-align: right;\">\n",
       "      <th></th>\n",
       "      <th>ProFactor</th>\n",
       "      <th>FatFactor</th>\n",
       "      <th>CHOfactor</th>\n",
       "    </tr>\n",
       "    <tr>\n",
       "      <th>FoodGroupDesc</th>\n",
       "      <th></th>\n",
       "      <th></th>\n",
       "      <th></th>\n",
       "    </tr>\n",
       "  </thead>\n",
       "  <tbody>\n",
       "    <tr>\n",
       "      <th>American Indian/Alaska Native Foods</th>\n",
       "      <td>0.000000</td>\n",
       "      <td>0.000000</td>\n",
       "      <td>0.000000</td>\n",
       "    </tr>\n",
       "    <tr>\n",
       "      <th>Beef Products</th>\n",
       "      <td>0.063264</td>\n",
       "      <td>0.004435</td>\n",
       "      <td>0.061991</td>\n",
       "    </tr>\n",
       "    <tr>\n",
       "      <th>Dairy and Egg Products</th>\n",
       "      <td>0.065385</td>\n",
       "      <td>0.026064</td>\n",
       "      <td>0.070251</td>\n",
       "    </tr>\n",
       "    <tr>\n",
       "      <th>Finfish and Shellfish Products</th>\n",
       "      <td>0.185355</td>\n",
       "      <td>0.019968</td>\n",
       "      <td>0.112388</td>\n",
       "    </tr>\n",
       "    <tr>\n",
       "      <th>Lamb, Veal, and Game Products</th>\n",
       "      <td>0.000000</td>\n",
       "      <td>0.000000</td>\n",
       "      <td>0.061967</td>\n",
       "    </tr>\n",
       "    <tr>\n",
       "      <th>Nut and Seed Products</th>\n",
       "      <td>0.034564</td>\n",
       "      <td>0.000000</td>\n",
       "      <td>0.071330</td>\n",
       "    </tr>\n",
       "    <tr>\n",
       "      <th>Pork Products</th>\n",
       "      <td>0.063357</td>\n",
       "      <td>0.002217</td>\n",
       "      <td>0.061916</td>\n",
       "    </tr>\n",
       "    <tr>\n",
       "      <th>Poultry Products</th>\n",
       "      <td>0.093711</td>\n",
       "      <td>0.002217</td>\n",
       "      <td>0.103317</td>\n",
       "    </tr>\n",
       "    <tr>\n",
       "      <th>Restaurant Foods</th>\n",
       "      <td>0.000000</td>\n",
       "      <td>0.000000</td>\n",
       "      <td>0.000000</td>\n",
       "    </tr>\n",
       "  </tbody>\n",
       "</table>\n",
       "</div>"
      ],
      "text/plain": [
       "                                     ProFactor  FatFactor  CHOfactor\n",
       "FoodGroupDesc                                                       \n",
       "American Indian/Alaska Native Foods   0.000000   0.000000   0.000000\n",
       "Beef Products                         0.063264   0.004435   0.061991\n",
       "Dairy and Egg Products                0.065385   0.026064   0.070251\n",
       "Finfish and Shellfish Products        0.185355   0.019968   0.112388\n",
       "Lamb, Veal, and Game Products         0.000000   0.000000   0.061967\n",
       "Nut and Seed Products                 0.034564   0.000000   0.071330\n",
       "Pork Products                         0.063357   0.002217   0.061916\n",
       "Poultry Products                      0.093711   0.002217   0.103317\n",
       "Restaurant Foods                      0.000000   0.000000   0.000000"
      ]
     },
     "execution_count": 12,
     "metadata": {},
     "output_type": "execute_result"
    }
   ],
   "source": [
    "food_50 = vc_food[vc_food >= 50]\n",
    "def get_range(pro):\n",
    "    return (pro.max() - pro.min())/pro.mean()\n",
    "rel_range = combined.groupby(['FoodGroupDesc'])[['ProFactor','FatFactor','CHOfactor']].agg(get_range)\n",
    "mask1 = rel_range['ProFactor']<rel_range['ProFactor'].median()\n",
    "mask2 = rel_range['FatFactor']<rel_range['FatFactor'].median()\n",
    "rel_range[rel_range.index.isin(food_50.index)][mask1][mask2]"
   ]
  },
  {
   "cell_type": "code",
   "execution_count": 13,
   "metadata": {},
   "outputs": [
    {
     "data": {
      "text/plain": [
       "Index([u'American Indian/Alaska Native Foods', u'Baby Foods',\n",
       "       u'Baked Products', u'Beef Products', u'Beverages', u'Breakfast Cereals',\n",
       "       u'Cereal Grains and Pasta', u'Dairy and Egg Products', u'Fast Foods',\n",
       "       u'Fats and Oils', u'Finfish and Shellfish Products',\n",
       "       u'Fruits and Fruit Juices', u'Lamb, Veal, and Game Products',\n",
       "       u'Legumes and Legume Products', u'Meals, Entrees, and Side Dishes',\n",
       "       u'Nut and Seed Products', u'Pork Products', u'Poultry Products',\n",
       "       u'Restaurant Foods', u'Sausages and Luncheon Meats', u'Snacks',\n",
       "       u'Soups, Sauces, and Gravies', u'Spices and Herbs', u'Sweets',\n",
       "       u'Vegetables and Vegetable Products'],\n",
       "      dtype='object', name=u'FoodGroupDesc')"
      ]
     },
     "execution_count": 13,
     "metadata": {},
     "output_type": "execute_result"
    }
   ],
   "source": [
    "rel_range.index"
   ]
  },
  {
   "cell_type": "code",
   "execution_count": null,
   "metadata": {
    "collapsed": true
   },
   "outputs": [],
   "source": []
  },
  {
   "cell_type": "code",
   "execution_count": null,
   "metadata": {
    "collapsed": true
   },
   "outputs": [],
   "source": []
  },
  {
   "cell_type": "markdown",
   "metadata": {},
   "source": [
    "### Q4(g): Predicting the ProFactor\n",
    "\n",
    "Try to predict the value of `ProFactor` using `FatFactor`, `CHOfactor`, and the categories given by `FoodGroupDesc`. Comment on \n",
    "1. the goodness of fit, \n",
    "2. the factors that are statistically significant at the 0.005 p-value level, and\n",
    "3. how the presence or absence of these statistically significant factors affects `ProFactor` prediction."
   ]
  },
  {
   "cell_type": "code",
   "execution_count": 14,
   "metadata": {},
   "outputs": [
    {
     "name": "stdout",
     "output_type": "stream",
     "text": [
      "R-squared = 0.853140236893\n",
      "\n",
      "C(FoodGroupDesc)[T.Snacks]                                5.732494e-04\n",
      "C(FoodGroupDesc)[T.Spices and Herbs]                      1.718172e-04\n",
      "C(FoodGroupDesc)[T.Vegetables and Vegetable Products]     1.953200e-07\n",
      "FatFactor                                                6.556138e-209\n",
      "CHOfactor                                                2.544911e-161\n",
      "dtype: float64\n",
      "\n",
      "C(FoodGroupDesc)[T.Snacks]                              -0.893985\n",
      "C(FoodGroupDesc)[T.Spices and Herbs]                    -0.979146\n",
      "C(FoodGroupDesc)[T.Vegetables and Vegetable Products]   -1.344543\n",
      "FatFactor                                                0.285582\n",
      "CHOfactor                                                0.572765\n",
      "dtype: float64\n"
     ]
    },
    {
     "name": "stderr",
     "output_type": "stream",
     "text": [
      "/usr/local/lib/python2.7/site-packages/statsmodels/compat/pandas.py:56: FutureWarning: The pandas.core.datetools module is deprecated and will be removed in a future version. Please use the pandas.tseries module instead.\n",
      "  from pandas.core import datetools\n"
     ]
    }
   ],
   "source": [
    "import statsmodels.api as sm\n",
    "from patsy import dmatrices\n",
    "y, X = dmatrices('ProFactor ~ FatFactor + CHOfactor + C(FoodGroupDesc)', data=combined, return_type='dataframe')\n",
    "model = sm.OLS(y, X)\n",
    "result = model.fit()\n",
    "\n",
    "print 'R-squared =', result.rsquared\n",
    "print\n",
    "print result.pvalues[result.pvalues<0.005]\n",
    "print\n",
    "print result.params[result.pvalues[result.pvalues<0.005].index]"
   ]
  },
  {
   "cell_type": "markdown",
   "metadata": {},
   "source": [
    "### Q4(h): Food clusters\n",
    "\n",
    "Create a clean dataset by selecting the `FoodGroupDesc`, `ProFactor`, `FatFactor`, and `CHOfactor` columns from the `combined` DataFrame and dropping any rows with missing values. Now, use k-means to cluster the foods based on all three factors, using as many clusters as there are food groups. Finally, figure out the groups for which 90% or more of the foods in that group belong to a single cluster."
   ]
  },
  {
   "cell_type": "code",
   "execution_count": null,
   "metadata": {
    "collapsed": true
   },
   "outputs": [],
   "source": []
  },
  {
   "cell_type": "markdown",
   "metadata": {},
   "source": [
    "### Q4(i): Common types of cooking\n",
    "\n",
    "Quite often, the `LongDesc` of a food specifies how it is to be cooked or used, e.g., _Butter, whipped, with salt_. Let's assume the part of the `LongDesc` after the **last comma** specifies the type of cooking. Attach a `cooking_style` column to the `combined` DataFrame. For example:\n",
    "\n",
    "LongDesc | cooking_style\n",
    "--- | ---\n",
    "Egg, duck, whole, fresh, raw | raw\n",
    "Butter, without salt | without salt\n",
    "Cheese, feta | feta\n",
    "\n",
    "Clearly, this is not always accurate, so we will refine this. Find the 10 most common `cooking_style` values, and change all the remainder to `Other`. So, if `raw` and `without salt` are in the top 10 but `feta` isn't, we should get\n",
    "\n",
    "LongDesc | cooking_style\n",
    "--- | ---\n",
    "Egg, duck, whole, fresh, raw | raw\n",
    "Butter, without salt | without salt\n",
    "Cheese, feta | Other"
   ]
  },
  {
   "cell_type": "code",
   "execution_count": 15,
   "metadata": {},
   "outputs": [
    {
     "data": {
      "text/plain": [
       "Other                  5669\n",
       " raw                   1277\n",
       " roasted                349\n",
       " braised                246\n",
       " without salt           237\n",
       " with salt              234\n",
       " unprepared             196\n",
       " broiled                179\n",
       " grilled                154\n",
       " cooked                 136\n",
       " solids and liquids     112\n",
       "Name: cooking_style, dtype: int64"
      ]
     },
     "execution_count": 15,
     "metadata": {},
     "output_type": "execute_result"
    }
   ],
   "source": [
    "def get_style(description):\n",
    "    list = description.split(',')\n",
    "    return list[-1]\n",
    "combined['cooking_style'] = combined['LongDesc'].map(get_style)\n",
    "vc_style = combined['cooking_style'].value_counts()\n",
    "vc_style10 = vc_style[:10]\n",
    "\n",
    "def get_top(style):\n",
    "    if style in vc_style10.index:\n",
    "        return style\n",
    "    else:\n",
    "        return 'Other'\n",
    "\n",
    "combined['cooking_style'] = combined['cooking_style'].map(get_top)\n",
    "combined['cooking_style'].value_counts()"
   ]
  },
  {
   "cell_type": "markdown",
   "metadata": {},
   "source": [
    "### Q4(j): Common types of cooking (continued)\n",
    "\n",
    "Using the results of the previous question, build a table whose index is these top 10 cooking types (plus `Other`), the columns are the various `FoodGroupDesc`, and the values are the number of times foods from the same FoodGroup can be cooked in that style.\n",
    "\n",
    "Then, normalize each `FoodGroupDesc` column by the overall frequencies of the various cooking types. Finally, pick the most common `cooking_style` for each `FoodGroupDesc` (most common after normalization)."
   ]
  },
  {
   "cell_type": "code",
   "execution_count": 16,
   "metadata": {},
   "outputs": [
    {
     "data": {
      "text/plain": [
       "FoodGroupDesc\n",
       "American Indian/Alaska Native Foods                  Other\n",
       "Baby Foods                                           Other\n",
       "Baked Products                                       Other\n",
       "Beef Products                                      grilled\n",
       "Beverages                                            Other\n",
       "Breakfast Cereals                             without salt\n",
       "Cereal Grains and Pasta                             cooked\n",
       "Dairy and Egg Products                               Other\n",
       "Fast Foods                                          cooked\n",
       "Fats and Oils                                    with salt\n",
       "Finfish and Shellfish Products                         raw\n",
       "Fruits and Fruit Juices                 solids and liquids\n",
       "Lamb, Veal, and Game Products                      braised\n",
       "Legumes and Legume Products                     unprepared\n",
       "Meals, Entrees, and Side Dishes                 unprepared\n",
       "Nut and Seed Products                         without salt\n",
       "Pork Products                                      roasted\n",
       "Poultry Products                                   roasted\n",
       "Restaurant Foods                                     Other\n",
       "Sausages and Luncheon Meats                         cooked\n",
       "Snacks                                               Other\n",
       "Soups, Sauces, and Gravies                           Other\n",
       "Spices and Herbs                                     Other\n",
       "Sweets                                               Other\n",
       "Vegetables and Vegetable Products                with salt\n",
       "dtype: object"
      ]
     },
     "execution_count": 16,
     "metadata": {},
     "output_type": "execute_result"
    }
   ],
   "source": [
    "group_style = pd.crosstab(combined['cooking_style'],combined['FoodGroupDesc'],)\n",
    "Frequency = combined['cooking_style'].value_counts()\n",
    "def norm(group):\n",
    "    return group*1.0/Frequency\n",
    "group_style_norm = group_style.apply(norm)\n",
    "group_style_norm.idxmax()"
   ]
  },
  {
   "cell_type": "code",
   "execution_count": 20,
   "metadata": {},
   "outputs": [
    {
     "data": {
      "text/html": [
       "<div>\n",
       "<style>\n",
       "    .dataframe thead tr:only-child th {\n",
       "        text-align: right;\n",
       "    }\n",
       "\n",
       "    .dataframe thead th {\n",
       "        text-align: left;\n",
       "    }\n",
       "\n",
       "    .dataframe tbody tr th {\n",
       "        vertical-align: top;\n",
       "    }\n",
       "</style>\n",
       "<table border=\"1\" class=\"dataframe\">\n",
       "  <thead>\n",
       "    <tr style=\"text-align: right;\">\n",
       "      <th>FoodGroupDesc</th>\n",
       "      <th>American Indian/Alaska Native Foods</th>\n",
       "      <th>Baby Foods</th>\n",
       "      <th>Baked Products</th>\n",
       "      <th>Beef Products</th>\n",
       "      <th>Beverages</th>\n",
       "      <th>Breakfast Cereals</th>\n",
       "      <th>Cereal Grains and Pasta</th>\n",
       "      <th>Dairy and Egg Products</th>\n",
       "      <th>Fast Foods</th>\n",
       "      <th>Fats and Oils</th>\n",
       "      <th>...</th>\n",
       "      <th>Nut and Seed Products</th>\n",
       "      <th>Pork Products</th>\n",
       "      <th>Poultry Products</th>\n",
       "      <th>Restaurant Foods</th>\n",
       "      <th>Sausages and Luncheon Meats</th>\n",
       "      <th>Snacks</th>\n",
       "      <th>Soups, Sauces, and Gravies</th>\n",
       "      <th>Spices and Herbs</th>\n",
       "      <th>Sweets</th>\n",
       "      <th>Vegetables and Vegetable Products</th>\n",
       "    </tr>\n",
       "    <tr>\n",
       "      <th>cooking_style</th>\n",
       "      <th></th>\n",
       "      <th></th>\n",
       "      <th></th>\n",
       "      <th></th>\n",
       "      <th></th>\n",
       "      <th></th>\n",
       "      <th></th>\n",
       "      <th></th>\n",
       "      <th></th>\n",
       "      <th></th>\n",
       "      <th></th>\n",
       "      <th></th>\n",
       "      <th></th>\n",
       "      <th></th>\n",
       "      <th></th>\n",
       "      <th></th>\n",
       "      <th></th>\n",
       "      <th></th>\n",
       "      <th></th>\n",
       "      <th></th>\n",
       "      <th></th>\n",
       "    </tr>\n",
       "  </thead>\n",
       "  <tbody>\n",
       "    <tr>\n",
       "      <th>braised</th>\n",
       "      <td>0</td>\n",
       "      <td>0</td>\n",
       "      <td>0</td>\n",
       "      <td>122</td>\n",
       "      <td>0</td>\n",
       "      <td>0</td>\n",
       "      <td>0</td>\n",
       "      <td>0</td>\n",
       "      <td>0</td>\n",
       "      <td>0</td>\n",
       "      <td>...</td>\n",
       "      <td>0</td>\n",
       "      <td>34</td>\n",
       "      <td>13</td>\n",
       "      <td>0</td>\n",
       "      <td>0</td>\n",
       "      <td>0</td>\n",
       "      <td>0</td>\n",
       "      <td>0</td>\n",
       "      <td>0</td>\n",
       "      <td>0</td>\n",
       "    </tr>\n",
       "    <tr>\n",
       "      <th>broiled</th>\n",
       "      <td>0</td>\n",
       "      <td>0</td>\n",
       "      <td>0</td>\n",
       "      <td>102</td>\n",
       "      <td>0</td>\n",
       "      <td>0</td>\n",
       "      <td>0</td>\n",
       "      <td>0</td>\n",
       "      <td>0</td>\n",
       "      <td>0</td>\n",
       "      <td>...</td>\n",
       "      <td>0</td>\n",
       "      <td>31</td>\n",
       "      <td>8</td>\n",
       "      <td>0</td>\n",
       "      <td>0</td>\n",
       "      <td>0</td>\n",
       "      <td>0</td>\n",
       "      <td>0</td>\n",
       "      <td>0</td>\n",
       "      <td>0</td>\n",
       "    </tr>\n",
       "    <tr>\n",
       "      <th>cooked</th>\n",
       "      <td>0</td>\n",
       "      <td>0</td>\n",
       "      <td>0</td>\n",
       "      <td>22</td>\n",
       "      <td>0</td>\n",
       "      <td>0</td>\n",
       "      <td>36</td>\n",
       "      <td>0</td>\n",
       "      <td>13</td>\n",
       "      <td>0</td>\n",
       "      <td>...</td>\n",
       "      <td>0</td>\n",
       "      <td>10</td>\n",
       "      <td>9</td>\n",
       "      <td>0</td>\n",
       "      <td>13</td>\n",
       "      <td>0</td>\n",
       "      <td>0</td>\n",
       "      <td>0</td>\n",
       "      <td>0</td>\n",
       "      <td>5</td>\n",
       "    </tr>\n",
       "    <tr>\n",
       "      <th>grilled</th>\n",
       "      <td>0</td>\n",
       "      <td>0</td>\n",
       "      <td>0</td>\n",
       "      <td>139</td>\n",
       "      <td>0</td>\n",
       "      <td>0</td>\n",
       "      <td>0</td>\n",
       "      <td>0</td>\n",
       "      <td>0</td>\n",
       "      <td>0</td>\n",
       "      <td>...</td>\n",
       "      <td>0</td>\n",
       "      <td>0</td>\n",
       "      <td>2</td>\n",
       "      <td>0</td>\n",
       "      <td>2</td>\n",
       "      <td>0</td>\n",
       "      <td>0</td>\n",
       "      <td>0</td>\n",
       "      <td>0</td>\n",
       "      <td>2</td>\n",
       "    </tr>\n",
       "    <tr>\n",
       "      <th>raw</th>\n",
       "      <td>0</td>\n",
       "      <td>0</td>\n",
       "      <td>0</td>\n",
       "      <td>410</td>\n",
       "      <td>0</td>\n",
       "      <td>0</td>\n",
       "      <td>6</td>\n",
       "      <td>4</td>\n",
       "      <td>0</td>\n",
       "      <td>0</td>\n",
       "      <td>...</td>\n",
       "      <td>11</td>\n",
       "      <td>82</td>\n",
       "      <td>142</td>\n",
       "      <td>0</td>\n",
       "      <td>4</td>\n",
       "      <td>0</td>\n",
       "      <td>0</td>\n",
       "      <td>0</td>\n",
       "      <td>0</td>\n",
       "      <td>198</td>\n",
       "    </tr>\n",
       "    <tr>\n",
       "      <th>roasted</th>\n",
       "      <td>0</td>\n",
       "      <td>0</td>\n",
       "      <td>0</td>\n",
       "      <td>108</td>\n",
       "      <td>0</td>\n",
       "      <td>0</td>\n",
       "      <td>0</td>\n",
       "      <td>0</td>\n",
       "      <td>0</td>\n",
       "      <td>0</td>\n",
       "      <td>...</td>\n",
       "      <td>4</td>\n",
       "      <td>77</td>\n",
       "      <td>84</td>\n",
       "      <td>0</td>\n",
       "      <td>0</td>\n",
       "      <td>0</td>\n",
       "      <td>0</td>\n",
       "      <td>0</td>\n",
       "      <td>0</td>\n",
       "      <td>0</td>\n",
       "    </tr>\n",
       "    <tr>\n",
       "      <th>solids and liquids</th>\n",
       "      <td>0</td>\n",
       "      <td>0</td>\n",
       "      <td>0</td>\n",
       "      <td>0</td>\n",
       "      <td>0</td>\n",
       "      <td>0</td>\n",
       "      <td>0</td>\n",
       "      <td>0</td>\n",
       "      <td>0</td>\n",
       "      <td>0</td>\n",
       "      <td>...</td>\n",
       "      <td>0</td>\n",
       "      <td>0</td>\n",
       "      <td>0</td>\n",
       "      <td>0</td>\n",
       "      <td>0</td>\n",
       "      <td>0</td>\n",
       "      <td>0</td>\n",
       "      <td>0</td>\n",
       "      <td>0</td>\n",
       "      <td>42</td>\n",
       "    </tr>\n",
       "    <tr>\n",
       "      <th>unprepared</th>\n",
       "      <td>0</td>\n",
       "      <td>0</td>\n",
       "      <td>0</td>\n",
       "      <td>0</td>\n",
       "      <td>0</td>\n",
       "      <td>1</td>\n",
       "      <td>0</td>\n",
       "      <td>0</td>\n",
       "      <td>8</td>\n",
       "      <td>0</td>\n",
       "      <td>...</td>\n",
       "      <td>0</td>\n",
       "      <td>3</td>\n",
       "      <td>0</td>\n",
       "      <td>0</td>\n",
       "      <td>3</td>\n",
       "      <td>0</td>\n",
       "      <td>0</td>\n",
       "      <td>0</td>\n",
       "      <td>0</td>\n",
       "      <td>63</td>\n",
       "    </tr>\n",
       "    <tr>\n",
       "      <th>with salt</th>\n",
       "      <td>0</td>\n",
       "      <td>0</td>\n",
       "      <td>0</td>\n",
       "      <td>0</td>\n",
       "      <td>0</td>\n",
       "      <td>8</td>\n",
       "      <td>2</td>\n",
       "      <td>1</td>\n",
       "      <td>0</td>\n",
       "      <td>15</td>\n",
       "      <td>...</td>\n",
       "      <td>0</td>\n",
       "      <td>0</td>\n",
       "      <td>0</td>\n",
       "      <td>0</td>\n",
       "      <td>0</td>\n",
       "      <td>0</td>\n",
       "      <td>1</td>\n",
       "      <td>0</td>\n",
       "      <td>0</td>\n",
       "      <td>166</td>\n",
       "    </tr>\n",
       "    <tr>\n",
       "      <th>without salt</th>\n",
       "      <td>0</td>\n",
       "      <td>0</td>\n",
       "      <td>1</td>\n",
       "      <td>0</td>\n",
       "      <td>0</td>\n",
       "      <td>16</td>\n",
       "      <td>0</td>\n",
       "      <td>1</td>\n",
       "      <td>0</td>\n",
       "      <td>11</td>\n",
       "      <td>...</td>\n",
       "      <td>7</td>\n",
       "      <td>0</td>\n",
       "      <td>0</td>\n",
       "      <td>0</td>\n",
       "      <td>0</td>\n",
       "      <td>0</td>\n",
       "      <td>0</td>\n",
       "      <td>0</td>\n",
       "      <td>0</td>\n",
       "      <td>161</td>\n",
       "    </tr>\n",
       "    <tr>\n",
       "      <th>Other</th>\n",
       "      <td>165</td>\n",
       "      <td>367</td>\n",
       "      <td>878</td>\n",
       "      <td>58</td>\n",
       "      <td>371</td>\n",
       "      <td>331</td>\n",
       "      <td>137</td>\n",
       "      <td>277</td>\n",
       "      <td>342</td>\n",
       "      <td>194</td>\n",
       "      <td>...</td>\n",
       "      <td>115</td>\n",
       "      <td>104</td>\n",
       "      <td>131</td>\n",
       "      <td>109</td>\n",
       "      <td>148</td>\n",
       "      <td>177</td>\n",
       "      <td>464</td>\n",
       "      <td>64</td>\n",
       "      <td>360</td>\n",
       "      <td>199</td>\n",
       "    </tr>\n",
       "  </tbody>\n",
       "</table>\n",
       "<p>11 rows × 25 columns</p>\n",
       "</div>"
      ],
      "text/plain": [
       "FoodGroupDesc        American Indian/Alaska Native Foods  Baby Foods  \\\n",
       "cooking_style                                                          \n",
       " braised                                               0           0   \n",
       " broiled                                               0           0   \n",
       " cooked                                                0           0   \n",
       " grilled                                               0           0   \n",
       " raw                                                   0           0   \n",
       " roasted                                               0           0   \n",
       " solids and liquids                                    0           0   \n",
       " unprepared                                            0           0   \n",
       " with salt                                             0           0   \n",
       " without salt                                          0           0   \n",
       "Other                                                165         367   \n",
       "\n",
       "FoodGroupDesc        Baked Products  Beef Products  Beverages  \\\n",
       "cooking_style                                                   \n",
       " braised                          0            122          0   \n",
       " broiled                          0            102          0   \n",
       " cooked                           0             22          0   \n",
       " grilled                          0            139          0   \n",
       " raw                              0            410          0   \n",
       " roasted                          0            108          0   \n",
       " solids and liquids               0              0          0   \n",
       " unprepared                       0              0          0   \n",
       " with salt                        0              0          0   \n",
       " without salt                     1              0          0   \n",
       "Other                           878             58        371   \n",
       "\n",
       "FoodGroupDesc        Breakfast Cereals  Cereal Grains and Pasta  \\\n",
       "cooking_style                                                     \n",
       " braised                             0                        0   \n",
       " broiled                             0                        0   \n",
       " cooked                              0                       36   \n",
       " grilled                             0                        0   \n",
       " raw                                 0                        6   \n",
       " roasted                             0                        0   \n",
       " solids and liquids                  0                        0   \n",
       " unprepared                          1                        0   \n",
       " with salt                           8                        2   \n",
       " without salt                       16                        0   \n",
       "Other                              331                      137   \n",
       "\n",
       "FoodGroupDesc        Dairy and Egg Products  Fast Foods  Fats and Oils  \\\n",
       "cooking_style                                                            \n",
       " braised                                  0           0              0   \n",
       " broiled                                  0           0              0   \n",
       " cooked                                   0          13              0   \n",
       " grilled                                  0           0              0   \n",
       " raw                                      4           0              0   \n",
       " roasted                                  0           0              0   \n",
       " solids and liquids                       0           0              0   \n",
       " unprepared                               0           8              0   \n",
       " with salt                                1           0             15   \n",
       " without salt                             1           0             11   \n",
       "Other                                   277         342            194   \n",
       "\n",
       "FoodGroupDesc                      ...                  Nut and Seed Products  \\\n",
       "cooking_style                      ...                                          \n",
       " braised                           ...                                      0   \n",
       " broiled                           ...                                      0   \n",
       " cooked                            ...                                      0   \n",
       " grilled                           ...                                      0   \n",
       " raw                               ...                                     11   \n",
       " roasted                           ...                                      4   \n",
       " solids and liquids                ...                                      0   \n",
       " unprepared                        ...                                      0   \n",
       " with salt                         ...                                      0   \n",
       " without salt                      ...                                      7   \n",
       "Other                              ...                                    115   \n",
       "\n",
       "FoodGroupDesc        Pork Products  Poultry Products  Restaurant Foods  \\\n",
       "cooking_style                                                            \n",
       " braised                        34                13                 0   \n",
       " broiled                        31                 8                 0   \n",
       " cooked                         10                 9                 0   \n",
       " grilled                         0                 2                 0   \n",
       " raw                            82               142                 0   \n",
       " roasted                        77                84                 0   \n",
       " solids and liquids              0                 0                 0   \n",
       " unprepared                      3                 0                 0   \n",
       " with salt                       0                 0                 0   \n",
       " without salt                    0                 0                 0   \n",
       "Other                          104               131               109   \n",
       "\n",
       "FoodGroupDesc        Sausages and Luncheon Meats  Snacks  \\\n",
       "cooking_style                                              \n",
       " braised                                       0       0   \n",
       " broiled                                       0       0   \n",
       " cooked                                       13       0   \n",
       " grilled                                       2       0   \n",
       " raw                                           4       0   \n",
       " roasted                                       0       0   \n",
       " solids and liquids                            0       0   \n",
       " unprepared                                    3       0   \n",
       " with salt                                     0       0   \n",
       " without salt                                  0       0   \n",
       "Other                                        148     177   \n",
       "\n",
       "FoodGroupDesc        Soups, Sauces, and Gravies  Spices and Herbs  Sweets  \\\n",
       "cooking_style                                                               \n",
       " braised                                      0                 0       0   \n",
       " broiled                                      0                 0       0   \n",
       " cooked                                       0                 0       0   \n",
       " grilled                                      0                 0       0   \n",
       " raw                                          0                 0       0   \n",
       " roasted                                      0                 0       0   \n",
       " solids and liquids                           0                 0       0   \n",
       " unprepared                                   0                 0       0   \n",
       " with salt                                    1                 0       0   \n",
       " without salt                                 0                 0       0   \n",
       "Other                                       464                64     360   \n",
       "\n",
       "FoodGroupDesc        Vegetables and Vegetable Products  \n",
       "cooking_style                                           \n",
       " braised                                             0  \n",
       " broiled                                             0  \n",
       " cooked                                              5  \n",
       " grilled                                             2  \n",
       " raw                                               198  \n",
       " roasted                                             0  \n",
       " solids and liquids                                 42  \n",
       " unprepared                                         63  \n",
       " with salt                                         166  \n",
       " without salt                                      161  \n",
       "Other                                              199  \n",
       "\n",
       "[11 rows x 25 columns]"
      ]
     },
     "execution_count": 20,
     "metadata": {},
     "output_type": "execute_result"
    }
   ],
   "source": [
    "group_style"
   ]
  },
  {
   "cell_type": "markdown",
   "metadata": {},
   "source": [
    "---\n",
    "## Q5 (10 points) An online advertising experiment\n",
    "\n",
    "Suppose we want to figure out if online advertising works for a brick-and-mortar store (say, `Macy's`). However, just tracking online advertising against online sales won't work; after all, a customer could see an ad online but buy the product at a store. So, let's say we could set up the following experiment.\n",
    "\n",
    "Suppose we could connect 1 million `Macy's` store customers with their Google accounts (e.g., via customers' publicly released google email addresses). Now, whenever any of these customers log in to Google, we show them a `Macy's` ad. At the end of couple of weeks, we have two groups of customers: Group A, who saw online ads, and Group B, who didn't. Now, we check if Group A customers bought more stuff at `Macy's` than Group B customers (we account for both online and store-based sales).\n",
    "\n",
    "If Group A bought more stuff, we say that online advertising works.\n",
    "\n",
    "Is this a reasonable assertion? If yes, explain why. If not, explain why not, and how you would modify this experiment to make it work."
   ]
  },
  {
   "cell_type": "markdown",
   "metadata": {},
   "source": []
  }
 ],
 "metadata": {
  "kernelspec": {
   "display_name": "Python 2",
   "language": "python",
   "name": "python2"
  },
  "language_info": {
   "codemirror_mode": {
    "name": "ipython",
    "version": 2
   },
   "file_extension": ".py",
   "mimetype": "text/x-python",
   "name": "python",
   "nbconvert_exporter": "python",
   "pygments_lexer": "ipython2",
   "version": "2.7.13"
  }
 },
 "nbformat": 4,
 "nbformat_minor": 1
}
